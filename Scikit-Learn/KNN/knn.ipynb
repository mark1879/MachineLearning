{
 "cells": [
  {
   "cell_type": "code",
   "execution_count": 38,
   "id": "17a19007",
   "metadata": {},
   "outputs": [],
   "source": [
    "import numpy as np\n",
    "import matplotlib.pyplot as plt"
   ]
  },
  {
   "cell_type": "markdown",
   "id": "95dbb7bb",
   "metadata": {},
   "source": [
    "##### 创建测试用例"
   ]
  },
  {
   "cell_type": "code",
   "execution_count": 39,
   "id": "5cf4640c",
   "metadata": {},
   "outputs": [],
   "source": [
    "x_train = [\n",
    "                [3.393533211, 2.331273381],\n",
    "                [3.110073483, 1.781539638],\n",
    "                [1.343808831, 3.368360954],\n",
    "                [3.582294042, 4.679179110],\n",
    "                [2.280362439, 2.866990263],\n",
    "                [7.423436942, 4.696522875],\n",
    "                [5.745051997, 3.533989803],\n",
    "                [9.172168622, 2.511101045],\n",
    "                [7.792783481, 3.424088941],\n",
    "                [7.939820817, 0.791637231]\n",
    "             ]\n",
    "\n",
    "y_train = [0, 0, 0, 0, 0, 1, 1, 1, 1, 1]"
   ]
  },
  {
   "cell_type": "code",
   "execution_count": 40,
   "id": "b6040342",
   "metadata": {},
   "outputs": [],
   "source": [
    "x_train = np.array(test_data_x)\n",
    "y_train = np.array(test_data_y)"
   ]
  },
  {
   "cell_type": "markdown",
   "id": "21e363b5",
   "metadata": {},
   "source": [
    "##### 展示数据"
   ]
  },
  {
   "cell_type": "code",
   "execution_count": 41,
   "id": "b37189b7",
   "metadata": {},
   "outputs": [
    {
     "data": {
      "image/png": "[encoded data removed]",
      "text/plain": [
       "<Figure size 432x288 with 1 Axes>"
      ]
     },
     "metadata": {
      "needs_background": "light"
     },
     "output_type": "display_data"
    }
   ],
   "source": [
    "plt.scatter(x_train[y_train==0, 0], x_train[y_train==0, 1], color='g')\n",
    "plt.scatter(x_train[y_train==1, 0], x_train[y_train==1, 1], color='r')\n",
    "plt.show()"
   ]
  },
  {
   "cell_type": "markdown",
   "id": "7c744535",
   "metadata": {},
   "source": [
    "##### 预测输入"
   ]
  },
  {
   "cell_type": "code",
   "execution_count": 42,
   "id": "a568760e",
   "metadata": {},
   "outputs": [
    {
     "data": {
      "image/png": "[encoded data removed]",
      "text/plain": [
       "<Figure size 432x288 with 1 Axes>"
      ]
     },
     "metadata": {
      "needs_background": "light"
     },
     "output_type": "display_data"
    }
   ],
   "source": [
    "predict = np.array([8.093607318, 3.365731514])\n",
    "\n",
    "plt.scatter(x_train[y_train==0, 0], x_train[y_train==0, 1], color='g')\n",
    "plt.scatter(x_train[y_train==1, 0], x_train[y_train==1, 1], color='r')\n",
    "plt.scatter(predict[0], predict[1], color='b')\n",
    "plt.show()"
   ]
  },
  {
   "cell_type": "markdown",
   "id": "e08b5e34",
   "metadata": {},
   "source": [
    "##### KNN的过程"
   ]
  },
  {
   "cell_type": "code",
   "execution_count": 43,
   "id": "0d7d0399",
   "metadata": {},
   "outputs": [],
   "source": [
    "from math import sqrt\n",
    "# dist = []\n",
    "# for x in x_train:\n",
    "#     d = sqrt(np.sum((x - test)**2))\n",
    "#     dist.append(d)"
   ]
  },
  {
   "cell_type": "code",
   "execution_count": 44,
   "id": "6f42aed4",
   "metadata": {},
   "outputs": [],
   "source": [
    "dist = [sqrt(np.sum(x - predict)**2) for x in x_train] "
   ]
  },
  {
   "cell_type": "code",
   "execution_count": 45,
   "id": "402f1e45",
   "metadata": {},
   "outputs": [],
   "source": [
    "nearest = np.argsort(dist)"
   ]
  },
  {
   "cell_type": "code",
   "execution_count": 46,
   "id": "f9b617cf",
   "metadata": {},
   "outputs": [],
   "source": [
    "k = 6"
   ]
  },
  {
   "cell_type": "code",
   "execution_count": 47,
   "id": "9b65900a",
   "metadata": {},
   "outputs": [],
   "source": [
    "top_k_y = [y_train[n] for n in nearest[:k]]"
   ]
  },
  {
   "cell_type": "code",
   "execution_count": 48,
   "id": "9dfe2e55",
   "metadata": {},
   "outputs": [],
   "source": [
    "from collections import Counter\n",
    "votes = Counter(top_k_y)"
   ]
  },
  {
   "cell_type": "code",
   "execution_count": 49,
   "id": "4026a71c",
   "metadata": {},
   "outputs": [],
   "source": [
    "predict_y = votes.most_common(1)[0][0]"
   ]
  },
  {
   "cell_type": "code",
   "execution_count": 50,
   "id": "c8244d7c",
   "metadata": {
    "scrolled": true
   },
   "outputs": [
    {
     "data": {
      "text/plain": [
       "1"
      ]
     },
     "execution_count": 50,
     "metadata": {},
     "output_type": "execute_result"
    }
   ],
   "source": [
    "predict_y"
   ]
  },
  {
   "cell_type": "code",
   "execution_count": null,
   "id": "c616cb64",
   "metadata": {},
   "outputs": [],
   "source": []
  }
 ],
 "metadata": {
  "kernelspec": {
   "display_name": "Python 3 (ipykernel)",
   "language": "python",
   "name": "python3"
  },
  "language_info": {
   "codemirror_mode": {
    "name": "ipython",
    "version": 3
   },
   "file_extension": ".py",
   "mimetype": "text/x-python",
   "name": "python",
   "nbconvert_exporter": "python",
   "pygments_lexer": "ipython3",
   "version": "3.9.13"
  }
 },
 "nbformat": 4,
 "nbformat_minor": 5
}
