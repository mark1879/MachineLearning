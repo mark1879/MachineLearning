{
 "cells": [
  {
   "cell_type": "code",
   "execution_count": 3,
   "id": "64cf9bff",
   "metadata": {},
   "outputs": [],
   "source": [
    "import numpy as np\n",
    "import matplotlib.pyplot as plt"
   ]
  },
  {
   "cell_type": "code",
   "execution_count": 4,
   "id": "73f4f791",
   "metadata": {},
   "outputs": [],
   "source": [
    "x = np.random.randint(0, 100, (50, 2))"
   ]
  },
  {
   "cell_type": "code",
   "execution_count": 15,
   "id": "80d73024",
   "metadata": {},
   "outputs": [],
   "source": [
    "x = np.array(x, dtype=float)"
   ]
  },
  {
   "cell_type": "markdown",
   "id": "ca0d227b",
   "metadata": {},
   "source": [
    "#### 均值方差归一化"
   ]
  },
  {
   "cell_type": "code",
   "execution_count": 16,
   "id": "942a12bc",
   "metadata": {},
   "outputs": [],
   "source": [
    "x[:,0] = (x[:,0] - np.mean(x[:,0])) / np.std(x[:,0])\n",
    "x[:,1] = (x[:,1] - np.mean(x[:,1])) / np.std(x[:,1])"
   ]
  },
  {
   "cell_type": "code",
   "execution_count": 17,
   "id": "918f4ee6",
   "metadata": {},
   "outputs": [
    {
     "data": {
      "image/png": "[encoded data removed]",
      "text/plain": [
       "<Figure size 432x288 with 1 Axes>"
      ]
     },
     "metadata": {
      "needs_background": "light"
     },
     "output_type": "display_data"
    }
   ],
   "source": [
    "plt.scatter(x[:, 0], x[:, 1])\n",
    "plt.show()"
   ]
  },
  {
   "cell_type": "code",
   "execution_count": null,
   "id": "ca3173fd",
   "metadata": {},
   "outputs": [],
   "source": []
  }
 ],
 "metadata": {
  "kernelspec": {
   "display_name": "Python 3",
   "language": "python",
   "name": "python3"
  },
  "language_info": {
   "codemirror_mode": {
    "name": "ipython",
    "version": 3
   },
   "file_extension": ".py",
   "mimetype": "text/x-python",
   "name": "python",
   "nbconvert_exporter": "python",
   "pygments_lexer": "ipython3",
   "version": "3.8.8"
  }
 },
 "nbformat": 4,
 "nbformat_minor": 5
}
