{
 "cells": [
  {
   "cell_type": "code",
   "execution_count": 7,
   "id": "c892ea85",
   "metadata": {},
   "outputs": [],
   "source": [
    "import numpy as np\n",
    "\n",
    "def load_data():\n",
    "    with open('dating_data.txt') as fr:\n",
    "        lines = fr.readlines()\n",
    "\n",
    "    x = np.empty((len(lines), 3), dtype=float)\n",
    "    y = np.empty(len(lines), dtype=int)\n",
    "\n",
    "    for i in range(len(lines)):\n",
    "        line = lines[i].strip().split('\\t')\n",
    "        x[i] = line[:3]\n",
    "        y[i] = line[3]\n",
    "    return x, y\n",
    "\n",
    "\n",
    "x, y = load_data()"
   ]
  },
  {
   "cell_type": "code",
   "execution_count": 12,
   "id": "5869392e",
   "metadata": {},
   "outputs": [],
   "source": [
    "def norm():\n",
    "    x_col_min = x.min(axis=0)\n",
    "    x_col_max = x.max(axis=0)\n",
    "\n",
    "    x_norm = x - x_col_min\n",
    "\n",
    "    x_norm /= (x_col_max - x_col_min + 1e-10)\n",
    "    \n",
    "    return x_norm\n",
    "\n",
    "\n",
    "x = norm()"
   ]
  },
  {
   "cell_type": "code",
   "execution_count": 13,
   "id": "b0ff7268",
   "metadata": {},
   "outputs": [
    {
     "data": {
      "text/plain": [
       "((100, 3), (100,), (900, 3), (900,))"
      ]
     },
     "execution_count": 13,
     "metadata": {},
     "output_type": "execute_result"
    }
   ],
   "source": [
    "test_x = x[900:]\n",
    "test_y = y[900:]\n",
    "\n",
    "x = x[:900]\n",
    "y = y[:900]\n",
    "\n",
    "test_x.shape, test_y.shape, x.shape, y.shape"
   ]
  },
  {
   "cell_type": "code",
   "execution_count": 16,
   "id": "d9f0fc71",
   "metadata": {},
   "outputs": [
    {
     "data": {
      "text/plain": [
       "1"
      ]
     },
     "execution_count": 16,
     "metadata": {},
     "output_type": "execute_result"
    }
   ],
   "source": [
    "def knn(_x, k=3):\n",
    "    temp = _x - x\n",
    "    temp = np.power(temp, 2)\n",
    "    temp = temp.sum(axis=1)\n",
    "    temp = np.sqrt(temp)\n",
    "    argsort = temp.argsort()\n",
    "\n",
    "    result = y[argsort][:k]\n",
    "    return np.bincount(result).argmax()\n",
    "\n",
    "\n",
    "knn(test_x[0], k=11)"
   ]
  },
  {
   "cell_type": "code",
   "execution_count": 18,
   "id": "0bf0a613",
   "metadata": {},
   "outputs": [
    {
     "name": "stdout",
     "output_type": "stream",
     "text": [
      "0.95\n"
     ]
    }
   ],
   "source": [
    "correct = 0\n",
    "for i in range(len(test_x)):\n",
    "    pred = knn(test_x[i], k=5)\n",
    "\n",
    "    if pred == test_y[i]:\n",
    "        correct += 1\n",
    "\n",
    "print(correct / len(test_x))"
   ]
  },
  {
   "cell_type": "code",
   "execution_count": null,
   "id": "a557138a",
   "metadata": {},
   "outputs": [],
   "source": []
  }
 ],
 "metadata": {
  "kernelspec": {
   "display_name": "Python 3 (ipykernel)",
   "language": "python",
   "name": "python3"
  },
  "language_info": {
   "codemirror_mode": {
    "name": "ipython",
    "version": 3
   },
   "file_extension": ".py",
   "mimetype": "text/x-python",
   "name": "python",
   "nbconvert_exporter": "python",
   "pygments_lexer": "ipython3",
   "version": "3.9.13"
  }
 },
 "nbformat": 4,
 "nbformat_minor": 5
}
