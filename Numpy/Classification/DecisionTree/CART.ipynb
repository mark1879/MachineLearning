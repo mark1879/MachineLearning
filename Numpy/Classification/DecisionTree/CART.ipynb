{
 "cells": [
  {
   "cell_type": "code",
   "execution_count": 1,
   "id": "490f9356",
   "metadata": {},
   "outputs": [],
   "source": [
    "import numpy as np"
   ]
  },
  {
   "cell_type": "code",
   "execution_count": 5,
   "id": "e9785f1f",
   "metadata": {},
   "outputs": [],
   "source": [
    "def load_data():\n",
    "    with open(\"decision_tree_data.txt\") as f:\n",
    "        lines = f.readlines()\n",
    "    \n",
    "    x = np.empty((len(lines), 7), dtype=int)\n",
    "    \n",
    "    for i in range(len(lines)):\n",
    "        line = lines[i].strip().split(\",\")\n",
    "        x[i] = line\n",
    "    \n",
    "    test_x = x[10:]\n",
    "    \n",
    "    return x, test_x"
   ]
  },
  {
   "cell_type": "code",
   "execution_count": 7,
   "id": "1411bc78",
   "metadata": {
    "scrolled": true
   },
   "outputs": [],
   "source": [
    "x, test_x = load_data()"
   ]
  },
  {
   "cell_type": "code",
   "execution_count": 9,
   "id": "1eb1be01",
   "metadata": {},
   "outputs": [],
   "source": [
    "def get_gini(_x, col, value):\n",
    "    gini = 0\n",
    "    \n",
    "    for symbol in ['eq', 'neq']:\n",
    "        sub_x = _x[_x[:, col] == value]\n",
    "        if symbol == 'neq':\n",
    "            sub_x = _x[_x[:, col] != value]\n",
    "            \n",
    "        if len(sub_x) == 0:\n",
    "            gini ++ 1e20\n",
    "            \n",
    "        prob = len(sub_x) / len(_x)\n",
    "        \n",
    "        prob_y0 = np.sum(sub_x[:, -1] == 0) / len(sub_x)\n",
    "        prob_y1 = np.sum(sub_x[:, -1] == 1) / len(sub_x)\n",
    "        \n",
    "        gini += prob * (1 - np.power(prob_y0, 2) - np.power(prob_y1, 2))\n",
    "        \n",
    "    return gini"
   ]
  },
  {
   "cell_type": "code",
   "execution_count": 10,
   "id": "5c2ae4f9",
   "metadata": {},
   "outputs": [
    {
     "data": {
      "text/plain": [
       "0.49732620320855625"
      ]
     },
     "execution_count": 10,
     "metadata": {},
     "output_type": "execute_result"
    }
   ],
   "source": [
    "get_gini(x, 0, 0)"
   ]
  },
  {
   "cell_type": "code",
   "execution_count": 17,
   "id": "ca26d54f",
   "metadata": {},
   "outputs": [],
   "source": [
    "def get_split_col_value(_x):\n",
    "    min_col = None\n",
    "    min_value = None\n",
    "    min_gini = 1e20\n",
    "    \n",
    "    # 遍历所有列，最后一列是 y，不需要计算\n",
    "    for col in range(_x.shape[1] - 1):\n",
    "        # 遍历所有取值\n",
    "        for value in set(_x[:, col]):\n",
    "            len_col_value = np.sum(_x[:, col] == value)\n",
    "            # 如果一个字段只有一个值的话，就不能切\n",
    "            if len_col_value == len(_x) or len_col_value == 0:\n",
    "                continue\n",
    "                \n",
    "            gini = get_gini(_x, col, value)\n",
    "            \n",
    "            if (gini < min_gini):\n",
    "                min_gini = gini\n",
    "                min_col = col\n",
    "                min_value = value\n",
    "                \n",
    "    return min_col, min_value"
   ]
  },
  {
   "cell_type": "code",
   "execution_count": 18,
   "id": "36effbf6",
   "metadata": {},
   "outputs": [],
   "source": [
    "class Node():\n",
    "    def __init__(self, col, value):\n",
    "        self.col = col\n",
    "        self.value = value\n",
    "        self.children = {}\n",
    "\n",
    "    def __str__(self):\n",
    "        return 'Node col=%d value=%d' % (self.col, self.value)\n",
    "\n",
    "\n",
    "class Leaf():\n",
    "    def __init__(self, y):\n",
    "        self.y = y\n",
    "\n",
    "    def __str__(self):\n",
    "        return 'Leaf y=%d' % self.y"
   ]
  },
  {
   "cell_type": "code",
   "execution_count": 19,
   "id": "ef093fd5",
   "metadata": {},
   "outputs": [
    {
     "name": "stdout",
     "output_type": "stream",
     "text": [
      "---- Node col=0 value=0 \n"
     ]
    }
   ],
   "source": [
    "def print_tree(node, prefix='', subfix=''):\n",
    "    prefix += '-' * 4\n",
    "    print(prefix, node, subfix)\n",
    "    if isinstance(node, Leaf):\n",
    "        return\n",
    "    for i in node.children:\n",
    "        subfix = 'symbol=' + str(i)\n",
    "        print_tree(node.children[i], prefix, subfix)\n",
    "\n",
    "\n",
    "print_tree(Node(0, 0))"
   ]
  },
  {
   "cell_type": "code",
   "execution_count": 20,
   "id": "c2c1da64",
   "metadata": {},
   "outputs": [
    {
     "data": {
      "text/plain": [
       "(3, 0)"
      ]
     },
     "execution_count": 20,
     "metadata": {},
     "output_type": "execute_result"
    }
   ],
   "source": [
    "get_split_col_value(x)"
   ]
  },
  {
   "cell_type": "code",
   "execution_count": 21,
   "id": "71c9bad4",
   "metadata": {},
   "outputs": [
    {
     "name": "stdout",
     "output_type": "stream",
     "text": [
      "Node col=3 value=0\n"
     ]
    }
   ],
   "source": [
    "root = Node(3, 0)\n",
    "print(root)"
   ]
  },
  {
   "cell_type": "code",
   "execution_count": 25,
   "id": "60d920b0",
   "metadata": {},
   "outputs": [
    {
     "name": "stdout",
     "output_type": "stream",
     "text": [
      "---- Node col=3 value=0 \n",
      "-------- Node col=5 value=0 symbol=eq\n",
      "-------- Node col=0 value=1 symbol=neq\n"
     ]
    }
   ],
   "source": [
    "def create_children(_x, parent_node):\n",
    "    for symbol in ['eq', 'neq']:\n",
    "        sub_x = _x[_x[:, parent_node.col] == parent_node.value]\n",
    "        if symbol == 'neq':\n",
    "            sub_x = _x[_x[:, parent_node.col] != parent_node.value]\n",
    "            \n",
    "        unique_y = np.unique(sub_x[:, -1])\n",
    "        \n",
    "        if len(unique_y) == 1:\n",
    "            parent_node.children[symbol] = Leaf(unique_y[0])\n",
    "            continue\n",
    "            \n",
    "        split_col, split_value = get_split_col_value(sub_x)\n",
    "        \n",
    "        parent_node.children[symbol] = Node(col=split_col, value=split_value)\n",
    "        \n",
    "create_children(x, root)\n",
    "print_tree(root)"
   ]
  },
  {
   "cell_type": "code",
   "execution_count": 26,
   "id": "9979a264",
   "metadata": {},
   "outputs": [
    {
     "name": "stdout",
     "output_type": "stream",
     "text": [
      "---- Node col=3 value=0 \n",
      "-------- Node col=5 value=0 symbol=eq\n",
      "------------ Leaf y=0 symbol=eq\n",
      "------------ Node col=0 value=0 symbol=neq\n",
      "-------- Node col=0 value=1 symbol=neq\n",
      "------------ Node col=2 value=0 symbol=eq\n",
      "------------ Leaf y=1 symbol=neq\n"
     ]
    }
   ],
   "source": [
    "x_3_eq_0 = x[x[:, 3] == 0]\n",
    "x_3_neq_0 = x[x[:, 3] != 0]\n",
    "create_children(x_3_eq_0, root.children['eq'])\n",
    "create_children(x_3_neq_0, root.children['neq'])\n",
    "\n",
    "print_tree(root)"
   ]
  },
  {
   "cell_type": "code",
   "execution_count": 27,
   "id": "d85062cc",
   "metadata": {},
   "outputs": [
    {
     "name": "stdout",
     "output_type": "stream",
     "text": [
      "---- Node col=3 value=0 \n",
      "-------- Node col=5 value=0 symbol=eq\n",
      "------------ Leaf y=0 symbol=eq\n",
      "------------ Node col=0 value=0 symbol=neq\n",
      "---------------- Node col=1 value=1 symbol=eq\n",
      "---------------- Leaf y=1 symbol=neq\n",
      "-------- Node col=0 value=1 symbol=neq\n",
      "------------ Node col=2 value=0 symbol=eq\n",
      "---------------- Leaf y=0 symbol=eq\n",
      "---------------- Leaf y=1 symbol=neq\n",
      "------------ Leaf y=1 symbol=neq\n"
     ]
    }
   ],
   "source": [
    "x_3_eq_0_and_5_neq_0 = x_3_eq_0[x_3_eq_0[:, 5] != 0]\n",
    "create_children(x_3_eq_0_and_5_neq_0, root.children['eq'].children['neq'])\n",
    "\n",
    "x_3_neq_0_and_0_eq_1 = x_3_neq_0[x_3_neq_0[:, 0] == 1]\n",
    "create_children(x_3_neq_0_and_0_eq_1, root.children['neq'].children['eq'])\n",
    "\n",
    "print_tree(root)"
   ]
  },
  {
   "cell_type": "code",
   "execution_count": 28,
   "id": "4609d9a3",
   "metadata": {},
   "outputs": [
    {
     "name": "stdout",
     "output_type": "stream",
     "text": [
      "---- Node col=3 value=0 \n",
      "-------- Node col=5 value=0 symbol=eq\n",
      "------------ Leaf y=0 symbol=eq\n",
      "------------ Node col=0 value=0 symbol=neq\n",
      "---------------- Node col=1 value=1 symbol=eq\n",
      "-------------------- Leaf y=0 symbol=eq\n",
      "-------------------- Leaf y=1 symbol=neq\n",
      "---------------- Leaf y=1 symbol=neq\n",
      "-------- Node col=0 value=1 symbol=neq\n",
      "------------ Node col=2 value=0 symbol=eq\n",
      "---------------- Leaf y=0 symbol=eq\n",
      "---------------- Leaf y=1 symbol=neq\n",
      "------------ Leaf y=1 symbol=neq\n"
     ]
    }
   ],
   "source": [
    "x_3_eq_0_and_5_neq_0_and_0_eq_0 = x_3_eq_0_and_5_neq_0[\n",
    "    x_3_eq_0_and_5_neq_0[:, 0] == 0]\n",
    "create_children(x_3_eq_0_and_5_neq_0_and_0_eq_0,\n",
    "                root.children['eq'].children['neq'].children['eq'])\n",
    "\n",
    "print_tree(root)"
   ]
  },
  {
   "cell_type": "code",
   "execution_count": 29,
   "id": "175157ed",
   "metadata": {},
   "outputs": [
    {
     "name": "stdout",
     "output_type": "stream",
     "text": [
      "1.0\n"
     ]
    }
   ],
   "source": [
    "def pred(_x, node):\n",
    "    symbol = 'eq'\n",
    "    if _x[node.col] != node.value:\n",
    "        symbol = 'neq'\n",
    "\n",
    "    node = node.children[symbol]\n",
    "\n",
    "    if isinstance(node, Leaf):\n",
    "        return node.y\n",
    "\n",
    "    return pred(_x, node)\n",
    "\n",
    "\n",
    "correct = 0\n",
    "for i in x:\n",
    "    if pred(i, root) == i[-1]:\n",
    "        correct += 1\n",
    "\n",
    "print(correct / len(x))"
   ]
  },
  {
   "cell_type": "code",
   "execution_count": null,
   "id": "5a39673f",
   "metadata": {},
   "outputs": [],
   "source": []
  }
 ],
 "metadata": {
  "kernelspec": {
   "display_name": "Python 3 (ipykernel)",
   "language": "python",
   "name": "python3"
  },
  "language_info": {
   "codemirror_mode": {
    "name": "ipython",
    "version": 3
   },
   "file_extension": ".py",
   "mimetype": "text/x-python",
   "name": "python",
   "nbconvert_exporter": "python",
   "pygments_lexer": "ipython3",
   "version": "3.9.13"
  }
 },
 "nbformat": 4,
 "nbformat_minor": 5
}
