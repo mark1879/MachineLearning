{
 "cells": [
  {
   "cell_type": "code",
   "execution_count": 1,
   "id": "694d2aaa",
   "metadata": {},
   "outputs": [
    {
     "data": {
      "text/plain": [
       "(array([[0, 0, 0, 0, 0, 0, 0],\n",
       "        [1, 0, 1, 0, 0, 0, 0],\n",
       "        [1, 0, 0, 0, 0, 0, 0],\n",
       "        [0, 1, 0, 0, 1, 1, 0],\n",
       "        [1, 1, 0, 1, 1, 1, 0],\n",
       "        [0, 2, 2, 0, 2, 1, 1],\n",
       "        [2, 1, 1, 1, 0, 0, 1],\n",
       "        [1, 1, 0, 0, 1, 1, 1],\n",
       "        [2, 0, 0, 2, 2, 0, 1],\n",
       "        [0, 0, 1, 1, 1, 0, 1]]),\n",
       " array([[0, 0, 1, 0, 0, 0, 0],\n",
       "        [2, 0, 0, 0, 0, 0, 0],\n",
       "        [1, 1, 0, 0, 1, 0, 0],\n",
       "        [1, 1, 1, 1, 1, 0, 1],\n",
       "        [2, 2, 2, 2, 2, 0, 1],\n",
       "        [2, 0, 0, 2, 2, 1, 1],\n",
       "        [0, 1, 0, 1, 0, 0, 1]]))"
      ]
     },
     "execution_count": 1,
     "metadata": {},
     "output_type": "execute_result"
    }
   ],
   "source": [
    "import numpy as np\n",
    "\n",
    "def load_data():\n",
    "    with open('decision_tree_data.txt') as fr:\n",
    "        lines = fr.readlines()\n",
    "\n",
    "    x = np.empty((len(lines), 7), dtype=int)\n",
    "\n",
    "    for i in range(len(lines)):\n",
    "        line = lines[i].strip().split(',')\n",
    "        x[i] = line\n",
    "\n",
    "    test_x = x[10:]\n",
    "    x = x[:10]\n",
    "\n",
    "    return x, test_x\n",
    "\n",
    "\n",
    "x, test_x = load_data()\n",
    "x, test_x"
   ]
  },
  {
   "cell_type": "code",
   "execution_count": 22,
   "id": "c8def0a3",
   "metadata": {},
   "outputs": [
    {
     "name": "stdout",
     "output_type": "stream",
     "text": [
      "Node col=0\n",
      "Leaf y=1\n"
     ]
    },
    {
     "data": {
      "text/plain": [
       "(None, None)"
      ]
     },
     "execution_count": 22,
     "metadata": {},
     "output_type": "execute_result"
    }
   ],
   "source": [
    "class Node():\n",
    "    def __init__(self, col):\n",
    "        self.col = col\n",
    "        self.children = {}\n",
    "\n",
    "    def __str__(self):\n",
    "        return 'Node col=%d' % self.col\n",
    "\n",
    "\n",
    "class Leaf():\n",
    "    def __init__(self, y):\n",
    "        self.y = y\n",
    "\n",
    "    def __str__(self):\n",
    "        return 'Leaf y=%d' % self.y\n",
    "\n",
    "\n",
    "print(Node(0)), print(Leaf(1))"
   ]
  },
  {
   "cell_type": "code",
   "execution_count": 23,
   "id": "45d7c41e",
   "metadata": {},
   "outputs": [
    {
     "name": "stdout",
     "output_type": "stream",
     "text": [
      "---- Node col=0 \n"
     ]
    }
   ],
   "source": [
    "def print_tree(node, prefix='', subfix=''):\n",
    "    prefix += '-' * 4\n",
    "    print(prefix, node, subfix)\n",
    "    if isinstance(node, Leaf):\n",
    "        return\n",
    "    for i in node.children:\n",
    "        subfix = 'value=' + str(i)\n",
    "        print_tree(node.children[i], prefix, subfix)\n",
    "\n",
    "\n",
    "print_tree(Node(0))"
   ]
  },
  {
   "cell_type": "code",
   "execution_count": 24,
   "id": "9438c953",
   "metadata": {},
   "outputs": [
    {
     "name": "stdout",
     "output_type": "stream",
     "text": [
      "---- Node col=0 \n",
      "-------- Node col=2 value=0\n",
      "------------ Leaf y=0 value=0\n",
      "------------ Leaf y=1 value=1\n",
      "------------ Leaf y=1 value=2\n",
      "-------- Node col=1 value=1\n",
      "------------ Leaf y=0 value=0\n",
      "------------ Node col=3 value=1\n",
      "---------------- Leaf y=1 value=0\n",
      "---------------- Leaf y=0 value=1\n",
      "-------- Leaf y=1 value=2\n"
     ]
    }
   ],
   "source": [
    "import pickle\n",
    "\n",
    "with open('tree.dump', 'rb') as fr:\n",
    "    root = pickle.load(fr)\n",
    "\n",
    "print_tree(root)"
   ]
  },
  {
   "cell_type": "code",
   "execution_count": 25,
   "id": "b753941a",
   "metadata": {},
   "outputs": [
    {
     "name": "stdout",
     "output_type": "stream",
     "text": [
      "---- Node col=3 \n",
      "-------- Leaf y=1 value=0\n",
      "-------- Leaf y=0 value=1\n"
     ]
    }
   ],
   "source": [
    "# 第 0 列，值为 1\n",
    "x_0_1 = x[x[:, 0] == 1]\n",
    "# 第 1 列，值为 1\n",
    "x_0_1_and_1_1 = x_0_1[x_0_1[:, 1] == 1]\n",
    "\n",
    "test_x_0_1 = test_x[test_x[:, 0] == 1]\n",
    "test_x_0_1_and_1_1 = test_x_0_1[test_x_0_1[:, 1] == 1]\n",
    "\n",
    "node = root.children[1].children[1]\n",
    "\n",
    "print_tree(node)"
   ]
  },
  {
   "cell_type": "code",
   "execution_count": 26,
   "id": "19d2fadb",
   "metadata": {},
   "outputs": [
    {
     "name": "stdout",
     "output_type": "stream",
     "text": [
      "---- Node col=0 \n",
      "-------- Node col=2 value=0\n",
      "------------ Leaf y=0 value=0\n",
      "------------ Leaf y=1 value=1\n",
      "------------ Leaf y=1 value=2\n",
      "-------- Node col=1 value=1\n",
      "------------ Leaf y=0 value=0\n",
      "------------ Leaf y=0 value=1\n",
      "-------- Leaf y=1 value=2\n"
     ]
    }
   ],
   "source": [
    "def post_cut(node, _x, test_x):\n",
    "    after_correct = 0\n",
    "    for split_value in np.unique(test_x[:, node.col]):\n",
    "        sub_test_x = test_x[test_x[:, node.col] == split_value]\n",
    "        sub_test_y = sub_test_x[:, -1]\n",
    "\n",
    "        after_correct += np.sum(sub_test_y == node.children[split_value].y)\n",
    "\n",
    "    _y = _x[:, -1]\n",
    "    test_y = test_x[:, -1]\n",
    "\n",
    "    # 求众数\n",
    "    vote_y = np.bincount(_y).argmax()\n",
    "\n",
    "    pre_correct = np.sum(test_y == vote_y)\n",
    "    \n",
    "    \n",
    "    if after_correct <= pre_correct:\n",
    "        return Leaf(y=vote_y)\n",
    "\n",
    "    return node\n",
    "\n",
    "\n",
    "root.children[1].children[1] = post_cut(node, x_0_1_and_1_1,\n",
    "                                         test_x_0_1_and_1_1)\n",
    "print_tree(root)"
   ]
  },
  {
   "cell_type": "code",
   "execution_count": 27,
   "id": "5d966b56",
   "metadata": {},
   "outputs": [
    {
     "name": "stdout",
     "output_type": "stream",
     "text": [
      "---- Node col=1 \n",
      "-------- Leaf y=0 value=0\n",
      "-------- Leaf y=0 value=1\n"
     ]
    }
   ],
   "source": [
    "x_0_1 = x[x[:, 0] == 1]\n",
    "\n",
    "test_x_0_1 = test_x[test_x[:, 0] == 1]\n",
    "\n",
    "node = root.children[1]\n",
    "\n",
    "print_tree(node)"
   ]
  },
  {
   "cell_type": "code",
   "execution_count": 28,
   "id": "bf953899",
   "metadata": {},
   "outputs": [
    {
     "name": "stdout",
     "output_type": "stream",
     "text": [
      "---- Node col=0 \n",
      "-------- Node col=2 value=0\n",
      "------------ Leaf y=0 value=0\n",
      "------------ Leaf y=1 value=1\n",
      "------------ Leaf y=1 value=2\n",
      "-------- Leaf y=0 value=1\n",
      "-------- Leaf y=1 value=2\n"
     ]
    }
   ],
   "source": [
    "root.children[1] = post_cut(node, x_0_1, test_x_0_1)\n",
    "print_tree(root)"
   ]
  },
  {
   "cell_type": "code",
   "execution_count": 29,
   "id": "6383f270",
   "metadata": {},
   "outputs": [
    {
     "name": "stdout",
     "output_type": "stream",
     "text": [
      "---- Node col=2 \n",
      "-------- Leaf y=0 value=0\n",
      "-------- Leaf y=1 value=1\n",
      "-------- Leaf y=1 value=2\n"
     ]
    }
   ],
   "source": [
    "x_0_0 = x[x[:, 0] == 0]\n",
    "\n",
    "test_x_0_0 = test_x[test_x[:, 0] == 0]\n",
    "\n",
    "node = root.children[0]\n",
    "\n",
    "print_tree(node)"
   ]
  },
  {
   "cell_type": "code",
   "execution_count": 30,
   "id": "6abfddec",
   "metadata": {},
   "outputs": [
    {
     "name": "stdout",
     "output_type": "stream",
     "text": [
      "---- Node col=0 \n",
      "-------- Leaf y=0 value=0\n",
      "-------- Leaf y=0 value=1\n",
      "-------- Leaf y=1 value=2\n"
     ]
    }
   ],
   "source": [
    "root.children[0] = post_cut(node, x_0_0, test_x_0_0)\n",
    "print_tree(root)"
   ]
  },
  {
   "cell_type": "code",
   "execution_count": 31,
   "id": "ec0996cd",
   "metadata": {},
   "outputs": [
    {
     "name": "stdout",
     "output_type": "stream",
     "text": [
      "0.7\n",
      "-------------------------\n",
      "0.42857142857142855\n"
     ]
    }
   ],
   "source": [
    "def pred(_x, node):\n",
    "    col_value = _x[node.col]\n",
    "    node = node.children[col_value]\n",
    "\n",
    "    if isinstance(node, Leaf):\n",
    "        return node.y\n",
    "\n",
    "    return pred(_x, node)\n",
    "\n",
    "\n",
    "correct = 0\n",
    "for i in x:\n",
    "    if pred(i, root) == i[-1]:\n",
    "        correct += 1\n",
    "\n",
    "print(correct / len(x))\n",
    "\n",
    "print('-------------------------')\n",
    "\n",
    "correct = 0\n",
    "for x in test_x:\n",
    "    if pred(x, root) == i[-1]:\n",
    "        correct += 1\n",
    "\n",
    "print(correct / len(test_x))"
   ]
  },
  {
   "cell_type": "code",
   "execution_count": null,
   "id": "e7bcddfe",
   "metadata": {},
   "outputs": [],
   "source": []
  }
 ],
 "metadata": {
  "kernelspec": {
   "display_name": "Python 3 (ipykernel)",
   "language": "python",
   "name": "python3"
  },
  "language_info": {
   "codemirror_mode": {
    "name": "ipython",
    "version": 3
   },
   "file_extension": ".py",
   "mimetype": "text/x-python",
   "name": "python",
   "nbconvert_exporter": "python",
   "pygments_lexer": "ipython3",
   "version": "3.9.13"
  }
 },
 "nbformat": 4,
 "nbformat_minor": 5
}
