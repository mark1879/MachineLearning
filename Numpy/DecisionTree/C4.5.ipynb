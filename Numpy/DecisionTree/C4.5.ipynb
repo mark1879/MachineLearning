{
 "cells": [
  {
   "cell_type": "code",
   "execution_count": 2,
   "id": "5bcb168c",
   "metadata": {},
   "outputs": [],
   "source": [
    "import numpy as np\n",
    "\n",
    "def load_data():\n",
    "    with open(\"decision_tree_data.txt\") as f:\n",
    "        lines = f.readlines()\n",
    "        \n",
    "    x = np.empty((len(lines), 7), dtype=int)\n",
    "    \n",
    "    for i in range(len(lines)):\n",
    "        line = lines[i].strip().split(',')\n",
    "        x[i] = line\n",
    "        \n",
    "    test_x = x[10:]\n",
    "    x = x[:10]\n",
    "    \n",
    "    return x, test_x"
   ]
  },
  {
   "cell_type": "code",
   "execution_count": 3,
   "id": "d32aa3a8",
   "metadata": {},
   "outputs": [
    {
     "data": {
      "text/plain": [
       "((10, 7), (7, 7))"
      ]
     },
     "execution_count": 3,
     "metadata": {},
     "output_type": "execute_result"
    }
   ],
   "source": [
    "x, test_x = load_data()\n",
    "x.shape, test_x.shape"
   ]
  },
  {
   "cell_type": "code",
   "execution_count": 4,
   "id": "184be5bb",
   "metadata": {},
   "outputs": [
    {
     "data": {
      "text/plain": [
       "1.0"
      ]
     },
     "execution_count": 4,
     "metadata": {},
     "output_type": "execute_result"
    }
   ],
   "source": [
    "def get_entropy(_x):\n",
    "    entropy = 0.0\n",
    "    \n",
    "    y = _x[:, -1]\n",
    "    \n",
    "    bincount = np.bincount(y)\n",
    "    for count in bincount:\n",
    "        if count == 0:\n",
    "            continue\n",
    "            \n",
    "        prob = count / len(_x)\n",
    "        \n",
    "        entropy -= prob * np.log2(prob)\n",
    "        \n",
    "    return entropy\n",
    "\n",
    "get_entropy(x)"
   ]
  },
  {
   "cell_type": "code",
   "execution_count": 5,
   "id": "a690e0bc",
   "metadata": {},
   "outputs": [
    {
     "data": {
      "text/plain": [
       "0.1810129868433342"
      ]
     },
     "execution_count": 5,
     "metadata": {},
     "output_type": "execute_result"
    }
   ],
   "source": [
    "# 计算增益的方式与 ID3 有差异\n",
    "def get_gain(_x, col):\n",
    "    col_entropy = 0\n",
    "    iv = 1e-20\n",
    "    \n",
    "    for value in set(_x[:, col]):\n",
    "        x_by_col_and_value = _x[_x[:, col] == value]\n",
    "        \n",
    "        prob = len(x_by_col_and_value) / len(_x)\n",
    "        entropy = get_entropy(x_by_col_and_value)\n",
    "        col_entropy += prob * entropy\n",
    "        \n",
    "        iv -= prob * np.log2(prob)\n",
    "        \n",
    "    gain = get_entropy(_x) - col_entropy\n",
    "    \n",
    "    return gain / iv\n",
    "        \n",
    "get_gain(x, 0)"
   ]
  },
  {
   "cell_type": "code",
   "execution_count": 6,
   "id": "1fd9d791",
   "metadata": {},
   "outputs": [
    {
     "data": {
      "text/plain": [
       "0"
      ]
     },
     "execution_count": 6,
     "metadata": {},
     "output_type": "execute_result"
    }
   ],
   "source": [
    "def get_split_col(_x):\n",
    "    best_col = -1\n",
    "    best_gain = 0\n",
    "    \n",
    "    # 最后一列是 y\n",
    "    for col in range(_x.shape[1] - 1):\n",
    "        gain = get_gain(_x, col)\n",
    "        \n",
    "        if gain > best_gain:\n",
    "            best_gain = gain\n",
    "            best_col = col\n",
    "            \n",
    "    return best_col\n",
    "\n",
    "get_split_col(x)        "
   ]
  },
  {
   "cell_type": "code",
   "execution_count": 7,
   "id": "0e999cf5",
   "metadata": {},
   "outputs": [],
   "source": [
    "class Node():\n",
    "    def __init__(self, col):\n",
    "        self.col = col\n",
    "        self.children = {}\n",
    "        \n",
    "    def __str__(self):\n",
    "        return 'Node col=%d' % self.col\n",
    "    \n",
    "class Leaf():\n",
    "    def __init__(self, y):\n",
    "        self.y = y\n",
    "\n",
    "    def __str__(self):\n",
    "        return 'Leaf y=%d' % self.y"
   ]
  },
  {
   "cell_type": "code",
   "execution_count": 8,
   "id": "4cd2dec9",
   "metadata": {},
   "outputs": [],
   "source": [
    "def print_tree(node, prefix='', subfix=''):\n",
    "    prefix += '-' * 4\n",
    "    print(prefix, node, subfix)\n",
    "    if isinstance(node, Leaf):\n",
    "        return\n",
    "    for i in node.children:\n",
    "        subfix = 'value=' + str(i)\n",
    "        print_tree(node.children[i], prefix, subfix)"
   ]
  },
  {
   "cell_type": "code",
   "execution_count": 9,
   "id": "1cf18ae5",
   "metadata": {},
   "outputs": [],
   "source": [
    "def create_children(_x, parent_node):\n",
    "    for split_value in np.unique(_x[:, parent_node.col]):\n",
    "        sub_x = _x[_x[:, parent_node.col] == split_value]\n",
    "        print(sub_x)\n",
    "        print(\"-----\")\n",
    "        \n",
    "        unique_y = np.unique(sub_x[:, -1])\n",
    "        \n",
    "        if len(unique_y) == 1:\n",
    "            parent_node.children[split_value] = Leaf(unique_y)\n",
    "            continue\n",
    "            \n",
    "        split_col = get_split_col(sub_x)\n",
    "        \n",
    "        parent_node.children[split_value] = Node(col=split_col)\n"
   ]
  },
  {
   "cell_type": "code",
   "execution_count": 10,
   "id": "3c027a81",
   "metadata": {},
   "outputs": [
    {
     "data": {
      "text/plain": [
       "0"
      ]
     },
     "execution_count": 10,
     "metadata": {},
     "output_type": "execute_result"
    }
   ],
   "source": [
    "# 在完整数据集上求信息增益最大的列\n",
    "split_col = get_split_col(x)\n",
    "split_col"
   ]
  },
  {
   "cell_type": "code",
   "execution_count": 11,
   "id": "2af1a9df",
   "metadata": {
    "scrolled": true
   },
   "outputs": [
    {
     "name": "stdout",
     "output_type": "stream",
     "text": [
      "[[0 0 0 0 0 0 0]\n",
      " [0 1 0 0 1 1 0]\n",
      " [0 2 2 0 2 1 1]\n",
      " [0 0 1 1 1 0 1]]\n",
      "-----\n",
      "[[1 0 1 0 0 0 0]\n",
      " [1 0 0 0 0 0 0]\n",
      " [1 1 0 1 1 1 0]\n",
      " [1 1 0 0 1 1 1]]\n",
      "-----\n",
      "[[2 1 1 1 0 0 1]\n",
      " [2 0 0 2 2 0 1]]\n",
      "-----\n",
      "---- Node col=0 \n",
      "-------- Node col=2 value=0\n",
      "-------- Node col=1 value=1\n",
      "-------- Leaf y=1 value=2\n"
     ]
    }
   ],
   "source": [
    "# 根据上面的结果，创建根节点\n",
    "root = Node(0)\n",
    "create_children(x, root)\n",
    "print_tree(root)"
   ]
  },
  {
   "cell_type": "code",
   "execution_count": 12,
   "id": "d99ddf09",
   "metadata": {},
   "outputs": [
    {
     "name": "stdout",
     "output_type": "stream",
     "text": [
      "[[0 0 0 0 0 0 0]\n",
      " [0 1 0 0 1 1 0]]\n",
      "-----\n",
      "[[0 0 1 1 1 0 1]]\n",
      "-----\n",
      "[[0 2 2 0 2 1 1]]\n",
      "-----\n",
      "---- Node col=0 \n",
      "-------- Node col=2 value=0\n",
      "------------ Leaf y=0 value=0\n",
      "------------ Leaf y=1 value=1\n",
      "------------ Leaf y=1 value=2\n",
      "-------- Node col=1 value=1\n",
      "-------- Leaf y=1 value=2\n"
     ]
    }
   ],
   "source": [
    "#继续 0=0 节点的下一层\n",
    "x_0_0 = x[x[:, 0] == 0]\n",
    "create_children(x_0_0, root.children[0])\n",
    "\n",
    "print_tree(root)"
   ]
  },
  {
   "cell_type": "code",
   "execution_count": 13,
   "id": "ece8b6c8",
   "metadata": {
    "scrolled": true
   },
   "outputs": [
    {
     "name": "stdout",
     "output_type": "stream",
     "text": [
      "[[1 0 1 0 0 0 0]\n",
      " [1 0 0 0 0 0 0]]\n",
      "-----\n",
      "[[1 1 0 1 1 1 0]\n",
      " [1 1 0 0 1 1 1]]\n",
      "-----\n",
      "---- Node col=0 \n",
      "-------- Node col=2 value=0\n",
      "------------ Leaf y=0 value=0\n",
      "------------ Leaf y=1 value=1\n",
      "------------ Leaf y=1 value=2\n",
      "-------- Node col=1 value=1\n",
      "------------ Leaf y=0 value=0\n",
      "------------ Node col=3 value=1\n",
      "-------- Leaf y=1 value=2\n"
     ]
    }
   ],
   "source": [
    "# 创建 0=1 的下一层\n",
    "x_0_1 = x[x[:, 0] == 1]\n",
    "create_children(x_0_1, root.children[1])\n",
    "\n",
    "print_tree(root)"
   ]
  },
  {
   "cell_type": "code",
   "execution_count": 14,
   "id": "b8f71f8e",
   "metadata": {},
   "outputs": [
    {
     "name": "stdout",
     "output_type": "stream",
     "text": [
      "[[1 1 0 0 1 1 1]]\n",
      "-----\n",
      "[[1 1 0 1 1 1 0]]\n",
      "-----\n",
      "---- Node col=0 \n",
      "-------- Node col=2 value=0\n",
      "------------ Leaf y=0 value=0\n",
      "------------ Leaf y=1 value=1\n",
      "------------ Leaf y=1 value=2\n",
      "-------- Node col=1 value=1\n",
      "------------ Leaf y=0 value=0\n",
      "------------ Node col=3 value=1\n",
      "---------------- Leaf y=1 value=0\n",
      "---------------- Leaf y=0 value=1\n",
      "-------- Leaf y=1 value=2\n"
     ]
    }
   ],
   "source": [
    "# 创建 0=1,1=1 的下一层\n",
    "x_0_1_and_1_1 = x_0_1[x_0_1[:, 1] == 1]\n",
    "create_children(x_0_1_and_1_1, root.children[1].children[1])\n",
    "\n",
    "print_tree(root)"
   ]
  },
  {
   "cell_type": "code",
   "execution_count": 15,
   "id": "53a89edb",
   "metadata": {},
   "outputs": [
    {
     "name": "stdout",
     "output_type": "stream",
     "text": [
      "1.0\n",
      "-------------------------\n",
      "0.2857142857142857\n"
     ]
    }
   ],
   "source": [
    "# 测试\n",
    "def pred(_x, node):\n",
    "    col_value = _x[node.col]\n",
    "    node = node.children[col_value]\n",
    "\n",
    "    if isinstance(node, Leaf):\n",
    "        return node.y\n",
    "\n",
    "    return pred(_x, node)\n",
    "\n",
    "\n",
    "correct = 0\n",
    "for i in x:\n",
    "    if pred(i, root) == i[-1]:\n",
    "        correct += 1\n",
    "\n",
    "print(correct / len(x))\n",
    "\n",
    "print('-------------------------')\n",
    "\n",
    "correct = 0\n",
    "for i in test_x:\n",
    "    if pred(i, root) == i[-1]:\n",
    "        correct += 1\n",
    "\n",
    "print(correct / len(test_x))"
   ]
  },
  {
   "cell_type": "code",
   "execution_count": null,
   "id": "c2bfcde0",
   "metadata": {},
   "outputs": [],
   "source": []
  }
 ],
 "metadata": {
  "kernelspec": {
   "display_name": "Python 3 (ipykernel)",
   "language": "python",
   "name": "python3"
  },
  "language_info": {
   "codemirror_mode": {
    "name": "ipython",
    "version": 3
   },
   "file_extension": ".py",
   "mimetype": "text/x-python",
   "name": "python",
   "nbconvert_exporter": "python",
   "pygments_lexer": "ipython3",
   "version": "3.9.13"
  }
 },
 "nbformat": 4,
 "nbformat_minor": 5
}
