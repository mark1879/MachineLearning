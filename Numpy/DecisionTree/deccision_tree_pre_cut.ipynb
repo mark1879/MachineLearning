{
 "cells": [
  {
   "cell_type": "code",
   "execution_count": 1,
   "id": "8a0322c2",
   "metadata": {},
   "outputs": [
    {
     "data": {
      "text/plain": [
       "(array([[0, 0, 0, 0, 0, 0, 0],\n",
       "        [1, 0, 1, 0, 0, 0, 0],\n",
       "        [1, 0, 0, 0, 0, 0, 0],\n",
       "        [0, 1, 0, 0, 1, 1, 0],\n",
       "        [1, 1, 0, 1, 1, 1, 0],\n",
       "        [0, 2, 2, 0, 2, 1, 1],\n",
       "        [2, 1, 1, 1, 0, 0, 1],\n",
       "        [1, 1, 0, 0, 1, 1, 1],\n",
       "        [2, 0, 0, 2, 2, 0, 1],\n",
       "        [0, 0, 1, 1, 1, 0, 1]]),\n",
       " array([[0, 0, 1, 0, 0, 0, 0],\n",
       "        [2, 0, 0, 0, 0, 0, 0],\n",
       "        [1, 1, 0, 0, 1, 0, 0],\n",
       "        [1, 1, 1, 1, 1, 0, 1],\n",
       "        [2, 2, 2, 2, 2, 0, 1],\n",
       "        [2, 0, 0, 2, 2, 1, 1],\n",
       "        [0, 1, 0, 1, 0, 0, 1]]))"
      ]
     },
     "execution_count": 1,
     "metadata": {},
     "output_type": "execute_result"
    }
   ],
   "source": [
    "import numpy as np\n",
    "\n",
    "def load_data():\n",
    "    with open('decision_tree_data.txt') as fr:\n",
    "        lines = fr.readlines()\n",
    "\n",
    "    x = np.empty((len(lines), 7), dtype=int)\n",
    "\n",
    "    for i in range(len(lines)):\n",
    "        line = lines[i].strip().split(',')\n",
    "        x[i] = line\n",
    "\n",
    "    test_x = x[10:]\n",
    "    x = x[:10]\n",
    "\n",
    "    return x, test_x\n",
    "\n",
    "x, test_x = load_data()\n",
    "x, test_x"
   ]
  },
  {
   "cell_type": "code",
   "execution_count": 2,
   "id": "44e337ef",
   "metadata": {},
   "outputs": [
    {
     "data": {
      "text/plain": [
       "1.0"
      ]
     },
     "execution_count": 2,
     "metadata": {},
     "output_type": "execute_result"
    }
   ],
   "source": [
    "def get_entropy(_x):\n",
    "    entropy = 0\n",
    "\n",
    "    y = _x[:, -1]\n",
    "\n",
    "    # 每种标签值出现的次数\n",
    "    bincount = np.bincount(y)\n",
    "    \n",
    "    for count in bincount:\n",
    "        if count == 0:\n",
    "            continue\n",
    "\n",
    "        prob = count / len(_x)\n",
    "        entropy -= prob * np.log2(prob)\n",
    "\n",
    "    return entropy\n",
    "\n",
    "get_entropy(x)"
   ]
  },
  {
   "cell_type": "code",
   "execution_count": 3,
   "id": "ed98a982",
   "metadata": {},
   "outputs": [
    {
     "data": {
      "text/plain": [
       "0.2754887502163468"
      ]
     },
     "execution_count": 3,
     "metadata": {},
     "output_type": "execute_result"
    }
   ],
   "source": [
    "def get_gain(_x, col):\n",
    "    # 按列（标签）求熵\n",
    "    col_entropy = 0\n",
    "\n",
    "    # 遍历同一个标签的各个标签值\n",
    "    for value in set(_x[:, col]):\n",
    "        x_by_col_and_value = _x[_x[:, col] == value]\n",
    "\n",
    "        prob = len(x_by_col_and_value) / len(_x)\n",
    "        entropy = get_entropy(x_by_col_and_value)\n",
    "        col_entropy += prob * entropy\n",
    "\n",
    "    # 信息增益, 值越大越好\n",
    "    gain = get_entropy(_x) - col_entropy\n",
    "\n",
    "    return gain\n",
    "\n",
    "get_gain(x, 0)"
   ]
  },
  {
   "cell_type": "code",
   "execution_count": 4,
   "id": "5adbed1f",
   "metadata": {},
   "outputs": [
    {
     "data": {
      "text/plain": [
       "0"
      ]
     },
     "execution_count": 4,
     "metadata": {},
     "output_type": "execute_result"
    }
   ],
   "source": [
    "def get_split_col(_x):\n",
    "    best_col = -1\n",
    "    best_gain = 0\n",
    "\n",
    "    # 遍历所有的列, 最后一列是 y（标签）\n",
    "    for col in range(_x.shape[1] - 1):\n",
    "\n",
    "        # 信息增益（熵下降）, 值越大越好\n",
    "        gain = get_gain(_x, col)\n",
    "\n",
    "        if gain > best_gain:\n",
    "            best_gain = gain\n",
    "            best_col = col\n",
    "\n",
    "    return best_col\n",
    "\n",
    "get_split_col(x)"
   ]
  },
  {
   "cell_type": "code",
   "execution_count": 6,
   "id": "65c7ea19",
   "metadata": {},
   "outputs": [
    {
     "name": "stdout",
     "output_type": "stream",
     "text": [
      "Node col=0\n",
      "Leaf y=1\n"
     ]
    },
    {
     "data": {
      "text/plain": [
       "(None, None)"
      ]
     },
     "execution_count": 6,
     "metadata": {},
     "output_type": "execute_result"
    }
   ],
   "source": [
    "class Node():\n",
    "    def __init__(self, col):\n",
    "        self.col = col\n",
    "        self.children = {}\n",
    "\n",
    "    def __str__(self):\n",
    "        return 'Node col=%d' % self.col\n",
    "\n",
    "\n",
    "class Leaf():\n",
    "    def __init__(self, y):\n",
    "        self.y = y\n",
    "\n",
    "    def __str__(self):\n",
    "        return 'Leaf y=%d' % self.y\n",
    "\n",
    "print(Node(0)), print(Leaf(1))"
   ]
  },
  {
   "cell_type": "code",
   "execution_count": 7,
   "id": "c891e1ff",
   "metadata": {},
   "outputs": [
    {
     "name": "stdout",
     "output_type": "stream",
     "text": [
      "---- Node col=0 \n"
     ]
    }
   ],
   "source": [
    "def print_tree(node, prefix='', subfix=''):\n",
    "    prefix += '-' * 4\n",
    "    print(prefix, node, subfix)\n",
    "    if isinstance(node, Leaf):\n",
    "        return\n",
    "    for i in node.children:\n",
    "        subfix = 'value=' + str(i)\n",
    "        print_tree(node.children[i], prefix, subfix)\n",
    "\n",
    "\n",
    "print_tree(Node(0))"
   ]
  },
  {
   "cell_type": "code",
   "execution_count": 8,
   "id": "587c5b22",
   "metadata": {},
   "outputs": [
    {
     "name": "stdout",
     "output_type": "stream",
     "text": [
      "Node col=0\n"
     ]
    }
   ],
   "source": [
    "# 在所有数据上求最大信息增益的列, 结果是第 0 列\n",
    "get_split_col(x)\n",
    "root = Node(0)\n",
    "print(root)"
   ]
  },
  {
   "cell_type": "code",
   "execution_count": 14,
   "id": "74a04db8",
   "metadata": {},
   "outputs": [
    {
     "data": {
      "text/plain": [
       "True"
      ]
     },
     "execution_count": 14,
     "metadata": {},
     "output_type": "execute_result"
    }
   ],
   "source": [
    "def pre_cut(_x, test_x):\n",
    "    _y = _x[:, -1]\n",
    "    test_y = test_x[:, -1]\n",
    "    \n",
    "    # 求样本数量最多的标签值\n",
    "    vote_y = np.bincount(_y).argmax()\n",
    "    pre_correct = np.sum(test_y == vote_y)\n",
    "    \n",
    "    split_col = get_split_col(_x)\n",
    "    \n",
    "    # 计算按列分割后的测试正确率\n",
    "    after_correct = 0\n",
    "    \n",
    "    # 遍历分割列的标签值\n",
    "    for split_value in np.unique(_x[:, split_col]):\n",
    "        sub_x = _x[_x[:, split_col] == split_value]\n",
    "        sub_test_x = test_x[test_x[:, split_col] == split_value]\n",
    "        \n",
    "        # 标签\n",
    "        sub_y = sub_x[:, -1]\n",
    "        sub_test_y = sub_test_x[:, -1]\n",
    "        \n",
    "        sub_vote_y = np.bincount(sub_y).argmax()\n",
    "        \n",
    "        after_correct += np.sum(sub_test_y == sub_vote_y)\n",
    "    \n",
    "    # 分割后的测试正确率提升了, 则分割\n",
    "    return after_correct > pre_correct\n",
    "\n",
    "pre_cut(x, test_x)"
   ]
  },
  {
   "cell_type": "code",
   "execution_count": 17,
   "id": "abb9df28",
   "metadata": {},
   "outputs": [
    {
     "name": "stdout",
     "output_type": "stream",
     "text": [
      "---- Node col=0 \n",
      "-------- Leaf y=0 value=0\n",
      "-------- Leaf y=0 value=1\n",
      "-------- Leaf y=1 value=2\n"
     ]
    }
   ],
   "source": [
    "def create_children(_x, test_x, parent_node):\n",
    "\n",
    "    # 遍历父节点 col列 所有的取值\n",
    "    for split_value in np.unique(_x[:, parent_node.col]):\n",
    "\n",
    "        sub_x = _x[_x[:, parent_node.col] == split_value]\n",
    "        sub_test_x = test_x[test_x[:, parent_node.col] == split_value]\n",
    "\n",
    "        _y = sub_x[:, -1]\n",
    "\n",
    "        # 如果所有的样本只有一个标签值, 表示是叶子节点\n",
    "        # 如果分割后的测试正确率提升了, 则分割\n",
    "        if len(np.unique(_y)) == 1 or not pre_cut(sub_x, sub_test_x):\n",
    "            vote_y = np.bincount(_y).argmax()\n",
    "            parent_node.children[split_value] = Leaf(vote_y)  # 参考 pre_cut 内部计算 pre_correct 的逻辑\n",
    "            continue\n",
    "\n",
    "        split_col = get_split_col(sub_x)\n",
    "        parent_node.children[split_value] = Node(col=split_col)\n",
    "\n",
    "\n",
    "create_children(x, test_x, root)\n",
    "\n",
    "print_tree(root)"
   ]
  },
  {
   "cell_type": "code",
   "execution_count": 18,
   "id": "6032658b",
   "metadata": {},
   "outputs": [
    {
     "name": "stdout",
     "output_type": "stream",
     "text": [
      "0.7\n",
      "-------------------------\n",
      "0.5714285714285714\n"
     ]
    }
   ],
   "source": [
    "def pred(_x, node):\n",
    "    col_value = _x[node.col]\n",
    "    node = node.children[col_value]\n",
    "\n",
    "    if isinstance(node, Leaf):\n",
    "        return node.y\n",
    "\n",
    "    return pred(_x, node)\n",
    "\n",
    "\n",
    "correct = 0\n",
    "for i in x:\n",
    "    if pred(i, root) == i[-1]:\n",
    "        correct += 1\n",
    "\n",
    "print(correct / len(x))\n",
    "\n",
    "print('-------------------------')\n",
    "\n",
    "correct = 0\n",
    "for i in test_x:\n",
    "    if pred(i, root) == i[-1]:\n",
    "        correct += 1\n",
    "\n",
    "print(correct / len(test_x))"
   ]
  },
  {
   "cell_type": "code",
   "execution_count": null,
   "id": "6c78309e",
   "metadata": {},
   "outputs": [],
   "source": []
  }
 ],
 "metadata": {
  "kernelspec": {
   "display_name": "Python 3 (ipykernel)",
   "language": "python",
   "name": "python3"
  },
  "language_info": {
   "codemirror_mode": {
    "name": "ipython",
    "version": 3
   },
   "file_extension": ".py",
   "mimetype": "text/x-python",
   "name": "python",
   "nbconvert_exporter": "python",
   "pygments_lexer": "ipython3",
   "version": "3.9.13"
  }
 },
 "nbformat": 4,
 "nbformat_minor": 5
}
