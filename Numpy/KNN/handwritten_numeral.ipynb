{
 "cells": [
  {
   "cell_type": "code",
   "execution_count": 5,
   "id": "9d70cfcc",
   "metadata": {},
   "outputs": [
    {
     "data": {
      "text/plain": [
       "(array([[0, 0, 0, ..., 0, 0, 0],\n",
       "        [0, 0, 0, ..., 0, 0, 0],\n",
       "        [0, 0, 0, ..., 0, 0, 0],\n",
       "        ...,\n",
       "        [0, 0, 0, ..., 0, 0, 0],\n",
       "        [0, 0, 0, ..., 0, 0, 0],\n",
       "        [0, 0, 0, ..., 0, 0, 0]]),\n",
       " array([5, 4, 8, ..., 5, 3, 3]),\n",
       " (1934, 1024),\n",
       " (1934,),\n",
       " (946, 1024),\n",
       " (946,))"
      ]
     },
     "execution_count": 5,
     "metadata": {},
     "output_type": "execute_result"
    }
   ],
   "source": [
    "import numpy as np\n",
    "import os\n",
    "\n",
    "def load_data(folder):\n",
    "    files = os.listdir(folder)\n",
    "\n",
    "    # 1024 表示列大小\n",
    "    x = np.empty((len(files), 1024), dtype=int)\n",
    "    y = np.empty(len(files), dtype=int)\n",
    "\n",
    "    for i in range(len(files)):\n",
    "        with open('{0}/{1}'.format(folder, files[i])) as fr:\n",
    "            lines = fr.readlines()\n",
    "\n",
    "        x_i = []\n",
    "        for line in lines:\n",
    "            line = line.strip()\n",
    "            x_i.extend(list(line))\n",
    "\n",
    "        x[i] = np.array(x_i, dtype=int)\n",
    "        \n",
    "        # 从文件名中解析 label\n",
    "        y[i] = files[i].split('_')[0]\n",
    "        \n",
    "    return x, y\n",
    "\n",
    "\n",
    "x, y = load_data('handwritten_numeral_train')\n",
    "test_x, test_y = load_data('handwritten_numeral_test')\n",
    "\n",
    "x, y, x.shape, y.shape, test_x.shape, test_y.shape"
   ]
  },
  {
   "cell_type": "code",
   "execution_count": 6,
   "id": "100c1d2d",
   "metadata": {},
   "outputs": [
    {
     "data": {
      "text/plain": [
       "4"
      ]
     },
     "execution_count": 6,
     "metadata": {},
     "output_type": "execute_result"
    }
   ],
   "source": [
    "def knn(_x, k=3):\n",
    "    temp = _x - x\n",
    "    temp = np.power(temp, 2)\n",
    "    temp = temp.sum(axis=1)\n",
    "    temp = np.sqrt(temp)\n",
    "    argsort = temp.argsort()\n",
    "\n",
    "    result = y[argsort][:k]\n",
    "    return np.bincount(result).argmax()\n",
    "\n",
    "\n",
    "knn(test_x[0])"
   ]
  },
  {
   "cell_type": "code",
   "execution_count": 8,
   "id": "fba5bb35",
   "metadata": {},
   "outputs": [
    {
     "name": "stdout",
     "output_type": "stream",
     "text": [
      "0.9735729386892178\n"
     ]
    }
   ],
   "source": [
    "correct = 0\n",
    "for i in range(len(test_x)):\n",
    "    pred = knn(test_x[i], k=9)\n",
    "\n",
    "    if pred == test_y[i]:\n",
    "        correct += 1\n",
    "\n",
    "print(correct / len(test_x))"
   ]
  },
  {
   "cell_type": "code",
   "execution_count": null,
   "id": "f1418a6d",
   "metadata": {},
   "outputs": [],
   "source": []
  }
 ],
 "metadata": {
  "kernelspec": {
   "display_name": "Python 3 (ipykernel)",
   "language": "python",
   "name": "python3"
  },
  "language_info": {
   "codemirror_mode": {
    "name": "ipython",
    "version": 3
   },
   "file_extension": ".py",
   "mimetype": "text/x-python",
   "name": "python",
   "nbconvert_exporter": "python",
   "pygments_lexer": "ipython3",
   "version": "3.9.13"
  }
 },
 "nbformat": 4,
 "nbformat_minor": 5
}
