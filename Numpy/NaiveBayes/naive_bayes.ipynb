{
 "cells": [
  {
   "cell_type": "code",
   "execution_count": 1,
   "id": "eb1e309a",
   "metadata": {},
   "outputs": [
    {
     "data": {
      "text/plain": [
       "(array([[0.   , 0.   , 0.   , 0.   , 0.   , 0.   , 0.697, 0.46 ],\n",
       "        [1.   , 0.   , 1.   , 0.   , 0.   , 0.   , 0.774, 0.376],\n",
       "        [1.   , 0.   , 0.   , 0.   , 0.   , 0.   , 0.634, 0.264],\n",
       "        [0.   , 1.   , 0.   , 0.   , 1.   , 1.   , 0.403, 0.237],\n",
       "        [1.   , 1.   , 0.   , 1.   , 1.   , 1.   , 0.481, 0.149],\n",
       "        [0.   , 2.   , 2.   , 0.   , 2.   , 1.   , 0.243, 0.267],\n",
       "        [2.   , 1.   , 1.   , 1.   , 0.   , 0.   , 0.657, 0.198],\n",
       "        [1.   , 1.   , 0.   , 0.   , 1.   , 1.   , 0.36 , 0.37 ],\n",
       "        [2.   , 0.   , 0.   , 2.   , 2.   , 0.   , 0.593, 0.042],\n",
       "        [0.   , 0.   , 1.   , 1.   , 1.   , 0.   , 0.719, 0.103],\n",
       "        [0.   , 0.   , 1.   , 0.   , 0.   , 0.   , 0.608, 0.318],\n",
       "        [2.   , 0.   , 0.   , 0.   , 0.   , 0.   , 0.556, 0.215],\n",
       "        [1.   , 1.   , 0.   , 0.   , 1.   , 0.   , 0.437, 0.211],\n",
       "        [1.   , 1.   , 1.   , 1.   , 1.   , 0.   , 0.666, 0.091],\n",
       "        [2.   , 2.   , 2.   , 2.   , 2.   , 0.   , 0.245, 0.057],\n",
       "        [2.   , 0.   , 0.   , 2.   , 2.   , 1.   , 0.343, 0.099],\n",
       "        [0.   , 1.   , 0.   , 1.   , 0.   , 0.   , 0.639, 0.161]]),\n",
       " array([0., 0., 0., 0., 0., 1., 1., 1., 1., 1., 0., 0., 0., 1., 1., 1., 1.]))"
      ]
     },
     "execution_count": 1,
     "metadata": {},
     "output_type": "execute_result"
    }
   ],
   "source": [
    "import numpy as np\n",
    "\n",
    "\n",
    "def load_data():\n",
    "    with open('continious_value_data.txt') as f:\n",
    "        lines = f.readlines()\n",
    "\n",
    "    x = np.empty((len(lines), 8), dtype=float)\n",
    "    y = np.empty(len(lines), dtype=float)\n",
    "\n",
    "    for i in range(len(lines)):\n",
    "        line = lines[i].strip().split(',')\n",
    "        x[i] = line[:8]\n",
    "        y[i] = line[8]\n",
    "\n",
    "    return x, y\n",
    "\n",
    "\n",
    "x, y = load_data()\n",
    "x, y"
   ]
  },
  {
   "cell_type": "code",
   "execution_count": 2,
   "id": "fb664520",
   "metadata": {},
   "outputs": [],
   "source": [
    "N, M = x.shape"
   ]
  },
  {
   "cell_type": "code",
   "execution_count": 13,
   "id": "b419e965",
   "metadata": {},
   "outputs": [
    {
     "data": {
      "text/plain": [
       "0.36363636363636365"
      ]
     },
     "execution_count": 13,
     "metadata": {},
     "output_type": "execute_result"
    }
   ],
   "source": [
    "# 给定y和某列值的情况下，求离散概率\n",
    "# p(x|y, col_val)\n",
    "def get_discrete_prob(col, value, _y):\n",
    "    _x = x[y == _y]\n",
    "    # +1 做拉普拉斯平滑\n",
    "    fenzi = (_x[:, col] == value).sum() + 1\n",
    "    # +col列取值数量，做拉普拉斯平滑\n",
    "    fenmu = len(_x) + len(np.unique(_x[:, col]))\n",
    "     \n",
    "    return fenzi / fenmu\n",
    "\n",
    "get_prob(0, 0, 0)"
   ]
  },
  {
   "cell_type": "code",
   "execution_count": 14,
   "id": "ebdd5e44",
   "metadata": {},
   "outputs": [],
   "source": [
    "# 给定y和某列值的情况下，求连续概率\n",
    "# p(x|y, col_val)\n",
    "# 用正太分布概率密度函数\n",
    "def get_continuous_prob(col, value, _y):\n",
    "    sqrt_2_pi = (2 * np.pi)**0.5\n",
    "    _x = x[y == _y]\n",
    "    \n",
    "    # 求均值和方差\n",
    "    mean = _x[:, col].mean()\n",
    "    sigma = _x[:, col].std()\n",
    "    \n",
    "    p = 1 / (sqrt_2_pi * sigma)\n",
    "    \n",
    "    fenzi = (value - mean)**2\n",
    "    fenmu = sigma**2 * 2\n",
    "    \n",
    "    return p* np.exp(-fenzi / fenmu)"
   ]
  },
  {
   "cell_type": "code",
   "execution_count": 15,
   "id": "53f19246",
   "metadata": {},
   "outputs": [
    {
     "data": {
      "text/plain": [
       "1.9624922010858166"
      ]
     },
     "execution_count": 15,
     "metadata": {},
     "output_type": "execute_result"
    }
   ],
   "source": [
    "get_continuous_prob(6, 0.697, 0)"
   ]
  },
  {
   "cell_type": "code",
   "execution_count": 16,
   "id": "7b85b7da",
   "metadata": {},
   "outputs": [
    {
     "data": {
      "text/plain": [
       "0"
      ]
     },
     "execution_count": 16,
     "metadata": {},
     "output_type": "execute_result"
    }
   ],
   "source": [
    "def predict(_x):\n",
    "    # y有两种取值：0，1\n",
    "    # 所以会预测出两个概率\n",
    "    ps = np.zeros(2)\n",
    "    \n",
    "    for _y in range(2):\n",
    "        for col in range(M):\n",
    "            p = None\n",
    "            if col == 6 or col == 7:\n",
    "                p = get_continuous_prob(col, _x[col], _y)\n",
    "            else:\n",
    "                p = get_discrete_prob(col, _x[col], _y)\n",
    "            \n",
    "            # 取对数，连乘变连加\n",
    "            ps[_y] += np.log(p)\n",
    "            \n",
    "    return ps.argmax()\n",
    "\n",
    "predict(x[0])"
   ]
  },
  {
   "cell_type": "code",
   "execution_count": 17,
   "id": "e3ca4321",
   "metadata": {},
   "outputs": [
    {
     "data": {
      "text/plain": [
       "0.8235294117647058"
      ]
     },
     "execution_count": 17,
     "metadata": {},
     "output_type": "execute_result"
    }
   ],
   "source": [
    "correct = 0\n",
    "for xi, yi in zip(x, y):\n",
    "    if predict(xi) == yi:\n",
    "        correct += 1\n",
    "correct / N"
   ]
  },
  {
   "cell_type": "code",
   "execution_count": null,
   "id": "66055c41",
   "metadata": {},
   "outputs": [],
   "source": []
  }
 ],
 "metadata": {
  "kernelspec": {
   "display_name": "Python 3 (ipykernel)",
   "language": "python",
   "name": "python3"
  },
  "language_info": {
   "codemirror_mode": {
    "name": "ipython",
    "version": 3
   },
   "file_extension": ".py",
   "mimetype": "text/x-python",
   "name": "python",
   "nbconvert_exporter": "python",
   "pygments_lexer": "ipython3",
   "version": "3.9.13"
  }
 },
 "nbformat": 4,
 "nbformat_minor": 5
}
