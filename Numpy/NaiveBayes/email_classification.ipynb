{
 "cells": [
  {
   "cell_type": "code",
   "execution_count": 16,
   "id": "2ca815b3",
   "metadata": {},
   "outputs": [
    {
     "data": {
      "text/plain": [
       "((50, 820), (50,))"
      ]
     },
     "execution_count": 16,
     "metadata": {},
     "output_type": "execute_result"
    }
   ],
   "source": [
    "import numpy as np\n",
    "import os\n",
    "import re\n",
    "\n",
    "def load_data():\n",
    "    # 每封邮件存储成一句话\n",
    "    files = []\n",
    "    y = []\n",
    "    for c in ['spam', 'normal']:\n",
    "        for file in os.listdir('email/' + c):\n",
    "            with open('email/' + c + '/' + file) as f:\n",
    "                lines = []\n",
    "                for line in f.readlines():\n",
    "                    line = line.strip()\n",
    "                    line = [\n",
    "                        word for word in re.split('\\W', line) if len(word) >= 2\n",
    "                    ]\n",
    "                    # 每封邮件存储成一句话\n",
    "                    lines.extend(line)\n",
    "                files.append(lines)\n",
    "                y.append(1 if c == 'spam' else 0)\n",
    "    \n",
    "    # 所有单词的集合\n",
    "    words = []\n",
    "    for line in files:\n",
    "        words.extend(line)\n",
    "    # 去重\n",
    "    words = list(set(words))\n",
    "    \n",
    "    # 统计每个单词在每个文件中出现的次数\n",
    "    x = np.zeros((len(files), len(words)))\n",
    "    for i in range(len(files)):\n",
    "        for j in range(len(files[i])):\n",
    "            if files[i][j] in words:\n",
    "                x[i, words.index(files[i][j])] += 1\n",
    "                \n",
    "    y = np.array(y)\n",
    "    \n",
    "    return x, y\n",
    "    \n",
    "x, y = load_data()\n",
    "x.shape, y.shape"
   ]
  },
  {
   "cell_type": "code",
   "execution_count": 17,
   "id": "cf058bc8",
   "metadata": {},
   "outputs": [
    {
     "name": "stdout",
     "output_type": "stream",
     "text": [
      "0.5\n"
     ]
    },
    {
     "data": {
      "text/plain": [
       "((820,), (820,), -0.6931471805599453, -0.6931471805599453)"
      ]
     },
     "execution_count": 17,
     "metadata": {},
     "output_type": "execute_result"
    }
   ],
   "source": [
    "def train(x, y):\n",
    "     #首先求总体的违规率,等于 违规次数 / 总次数\n",
    "    p1 = y.sum() / len(y)\n",
    "    p0 = 1 - p1\n",
    "    \n",
    "    print(p1)\n",
    "\n",
    "    # 取对数概率\n",
    "    p1 = np.log(p1)\n",
    "    p0 = np.log(p0)\n",
    "\n",
    "    # 垃圾邮件\n",
    "    x_1 = x[y == 1]\n",
    "    # 正常邮件\n",
    "    x_0 = x[y == 0]\n",
    "\n",
    "    # 统计每个词在垃圾邮件中出现的概率，+1 是为了避免0\n",
    "    p1_given_word = (x_1.sum(axis=0) + 1) / ((x_1.sum(axis=0) + 1)).sum() \n",
    "    #取对数概率\n",
    "    p1_given_word = np.log(p1_given_word)\n",
    "\n",
    "    # 统计每个词在正常邮件中出现的概率，+1 是为了避免0\n",
    "    p0_given_word = (x_0.sum(axis=0) + 1) / ((x_0.sum(axis=0) + 1)).sum()\n",
    "    p0_given_word = np.log(p0_given_word)\n",
    "\n",
    "    \n",
    "    return p1_given_word, p0_given_word, p1, p0\n",
    "    \n",
    "p1_given_word, p0_given_word, p1, p0 = train(x, y)\n",
    "p1_given_word.shape, p0_given_word.shape, p1, p0"
   ]
  },
  {
   "cell_type": "code",
   "execution_count": null,
   "id": "49fa474a",
   "metadata": {},
   "outputs": [],
   "source": [
    "def pred(x):\n",
    "    p1_given_x = x.dot(p1_given_word) + p1\n",
    "    p0_given_x = x.dot(p0_given_word) + p0\n",
    "\n",
    "    return 1 if p1_given_x > p0_given_x else 0\n",
    "\n",
    "\n",
    "correct = 0\n",
    "for xi, yi in zip(x, y):\n",
    "    if pred(xi) == yi:\n",
    "        correct += 1\n",
    "\n",
    "correct / len(x)"
   ]
  }
 ],
 "metadata": {
  "kernelspec": {
   "display_name": "Python 3 (ipykernel)",
   "language": "python",
   "name": "python3"
  },
  "language_info": {
   "codemirror_mode": {
    "name": "ipython",
    "version": 3
   },
   "file_extension": ".py",
   "mimetype": "text/x-python",
   "name": "python",
   "nbconvert_exporter": "python",
   "pygments_lexer": "ipython3",
   "version": "3.9.13"
  }
 },
 "nbformat": 4,
 "nbformat_minor": 5
}
